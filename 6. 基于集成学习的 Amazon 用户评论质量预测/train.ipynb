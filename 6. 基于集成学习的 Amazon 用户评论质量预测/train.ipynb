{
 "cells": [
  {
   "cell_type": "markdown",
   "metadata": {},
   "source": [
    "## 一、背景\n",
    "\n",
    "随着电商平台的兴起，以及疫情的持续影响，线上购物在我们的日常生活中扮演着越来越重要的角色。在进行线上商品挑选时，评论往往是我们十分关注的一个方面。然而目前电商网站的评论质量参差不齐，甚至有水军刷好评或者恶意差评的情况出现，严重影响了顾客的购物体验。因此，对于评论质量的预测成为电商平台越来越关注的话题，如果能自动对评论质量进行评估，就能根据预测结果避免展现低质量的评论。本案例中我们将基于集成学习的方法对 Amazon 现实场景中的评论质量进行预测。\n",
    "\n",
    "## 二、任务\n",
    "\n",
    "本案例中需要大家完成两种集成学习算法的实现（Bagging、AdaBoost.M1），其中基分类器要求使用 SVM 和决策树两种：\n",
    "\n",
    "* Bagging + SVM\n",
    "* Bagging + 决策树\n",
    "* AdaBoost.M1 + SVM\n",
    "* AdaBoost.M1 + 决策树\n",
    "\n",
    "注意集成学习的核心算法需要**手动进行实现**，基分类器可以调库。\n",
    "\n",
    "### 基本要求\n",
    "* 根据数据格式设计特征的表示\n",
    "* 汇报不同组合下得到的 AUC\n",
    "* 结合不同集成学习算法的特点分析结果之间的差异\n",
    "* （使用 sklearn 等第三方库的集成学习算法会酌情扣分）\n",
    "\n",
    "### 扩展要求\n",
    "* 尝试其他基分类器（如 k-NN、朴素贝叶斯）\n",
    "* 分析不同特征的影响\n",
    "* 分析集成学习算法参数的影响"
   ]
  },
  {
   "cell_type": "markdown",
   "metadata": {},
   "source": [
    "## 三、评价指标\n",
    "AUC ：https://scikit-learn.org/stable/modules/model_evaluation.html#roc-metrics"
   ]
  },
  {
   "cell_type": "markdown",
   "metadata": {},
   "source": [
    "## 四、数据概览"
   ]
  },
  {
   "cell_type": "markdown",
   "metadata": {},
   "source": [
    "### 4.1 数据加载"
   ]
  },
  {
   "cell_type": "markdown",
   "metadata": {},
   "source": [
    "本例数据来源于Amazon 现实场景中的真实评论。共三个文件: train.cvs为\n",
    "训练集文件，test.cvs为测试集的特征文件，groundTruth.csv为测试集的标\n",
    "签文件。分别用pandas导入:"
   ]
  },
  {
   "cell_type": "code",
   "execution_count": 2,
   "metadata": {},
   "outputs": [],
   "source": [
    "import pandas as pd\n",
    "\n",
    "train_df = pd.read_csv('./data/train.csv', sep='\\t')            # 训练集\n",
    "test_df = pd.read_csv('./data/test.csv', sep='\\t')              # 测试集（特征）\n",
    "test_df_y = pd.read_csv('./data/groundTruth.csv')               # 测试集（标签）"
   ]
  },
  {
   "cell_type": "code",
   "execution_count": 3,
   "metadata": {},
   "outputs": [
    {
     "data": {
      "text/html": [
       "<div>\n",
       "<style scoped>\n",
       "    .dataframe tbody tr th:only-of-type {\n",
       "        vertical-align: middle;\n",
       "    }\n",
       "\n",
       "    .dataframe tbody tr th {\n",
       "        vertical-align: top;\n",
       "    }\n",
       "\n",
       "    .dataframe thead th {\n",
       "        text-align: right;\n",
       "    }\n",
       "</style>\n",
       "<table border=\"1\" class=\"dataframe\">\n",
       "  <thead>\n",
       "    <tr style=\"text-align: right;\">\n",
       "      <th></th>\n",
       "      <th>reviewerID</th>\n",
       "      <th>asin</th>\n",
       "      <th>reviewText</th>\n",
       "      <th>overall</th>\n",
       "      <th>votes_up</th>\n",
       "      <th>votes_all</th>\n",
       "      <th>label</th>\n",
       "    </tr>\n",
       "  </thead>\n",
       "  <tbody>\n",
       "    <tr>\n",
       "      <th>0</th>\n",
       "      <td>7885</td>\n",
       "      <td>3901</td>\n",
       "      <td>First off, allow me to correct a common mistak...</td>\n",
       "      <td>5.0</td>\n",
       "      <td>6</td>\n",
       "      <td>7</td>\n",
       "      <td>0</td>\n",
       "    </tr>\n",
       "    <tr>\n",
       "      <th>1</th>\n",
       "      <td>52087</td>\n",
       "      <td>47978</td>\n",
       "      <td>I am really troubled by this Story and Enterta...</td>\n",
       "      <td>3.0</td>\n",
       "      <td>99</td>\n",
       "      <td>134</td>\n",
       "      <td>0</td>\n",
       "    </tr>\n",
       "    <tr>\n",
       "      <th>2</th>\n",
       "      <td>5701</td>\n",
       "      <td>3667</td>\n",
       "      <td>A near-perfect film version of a downright glo...</td>\n",
       "      <td>4.0</td>\n",
       "      <td>14</td>\n",
       "      <td>14</td>\n",
       "      <td>1</td>\n",
       "    </tr>\n",
       "    <tr>\n",
       "      <th>3</th>\n",
       "      <td>47191</td>\n",
       "      <td>40892</td>\n",
       "      <td>Keep your expectations low.  Really really low...</td>\n",
       "      <td>1.0</td>\n",
       "      <td>4</td>\n",
       "      <td>7</td>\n",
       "      <td>0</td>\n",
       "    </tr>\n",
       "    <tr>\n",
       "      <th>4</th>\n",
       "      <td>40957</td>\n",
       "      <td>15367</td>\n",
       "      <td>\"they dont make em like this no more...\"well.....</td>\n",
       "      <td>5.0</td>\n",
       "      <td>3</td>\n",
       "      <td>6</td>\n",
       "      <td>0</td>\n",
       "    </tr>\n",
       "    <tr>\n",
       "      <th>...</th>\n",
       "      <td>...</td>\n",
       "      <td>...</td>\n",
       "      <td>...</td>\n",
       "      <td>...</td>\n",
       "      <td>...</td>\n",
       "      <td>...</td>\n",
       "      <td>...</td>\n",
       "    </tr>\n",
       "    <tr>\n",
       "      <th>57034</th>\n",
       "      <td>58315</td>\n",
       "      <td>29374</td>\n",
       "      <td>If you like beautifully shot, well acted films...</td>\n",
       "      <td>2.0</td>\n",
       "      <td>12</td>\n",
       "      <td>21</td>\n",
       "      <td>0</td>\n",
       "    </tr>\n",
       "    <tr>\n",
       "      <th>57035</th>\n",
       "      <td>23328</td>\n",
       "      <td>45548</td>\n",
       "      <td>This is a great set of films Wayne did Fox and...</td>\n",
       "      <td>5.0</td>\n",
       "      <td>15</td>\n",
       "      <td>18</td>\n",
       "      <td>0</td>\n",
       "    </tr>\n",
       "    <tr>\n",
       "      <th>57036</th>\n",
       "      <td>27203</td>\n",
       "      <td>42453</td>\n",
       "      <td>It's what's known as a comedy of manners. It's...</td>\n",
       "      <td>3.0</td>\n",
       "      <td>4</td>\n",
       "      <td>5</td>\n",
       "      <td>0</td>\n",
       "    </tr>\n",
       "    <tr>\n",
       "      <th>57037</th>\n",
       "      <td>33992</td>\n",
       "      <td>44891</td>\n",
       "      <td>Ellen can do no wrong as far a creating wonder...</td>\n",
       "      <td>5.0</td>\n",
       "      <td>4</td>\n",
       "      <td>5</td>\n",
       "      <td>0</td>\n",
       "    </tr>\n",
       "    <tr>\n",
       "      <th>57038</th>\n",
       "      <td>27478</td>\n",
       "      <td>19198</td>\n",
       "      <td>I agree with everyone else that this is a grea...</td>\n",
       "      <td>2.0</td>\n",
       "      <td>5</td>\n",
       "      <td>5</td>\n",
       "      <td>1</td>\n",
       "    </tr>\n",
       "  </tbody>\n",
       "</table>\n",
       "<p>57039 rows × 7 columns</p>\n",
       "</div>"
      ],
      "text/plain": [
       "       reviewerID   asin                                         reviewText  \\\n",
       "0            7885   3901  First off, allow me to correct a common mistak...   \n",
       "1           52087  47978  I am really troubled by this Story and Enterta...   \n",
       "2            5701   3667  A near-perfect film version of a downright glo...   \n",
       "3           47191  40892  Keep your expectations low.  Really really low...   \n",
       "4           40957  15367  \"they dont make em like this no more...\"well.....   \n",
       "...           ...    ...                                                ...   \n",
       "57034       58315  29374  If you like beautifully shot, well acted films...   \n",
       "57035       23328  45548  This is a great set of films Wayne did Fox and...   \n",
       "57036       27203  42453  It's what's known as a comedy of manners. It's...   \n",
       "57037       33992  44891  Ellen can do no wrong as far a creating wonder...   \n",
       "57038       27478  19198  I agree with everyone else that this is a grea...   \n",
       "\n",
       "       overall  votes_up  votes_all  label  \n",
       "0          5.0         6          7      0  \n",
       "1          3.0        99        134      0  \n",
       "2          4.0        14         14      1  \n",
       "3          1.0         4          7      0  \n",
       "4          5.0         3          6      0  \n",
       "...        ...       ...        ...    ...  \n",
       "57034      2.0        12         21      0  \n",
       "57035      5.0        15         18      0  \n",
       "57036      3.0         4          5      0  \n",
       "57037      5.0         4          5      0  \n",
       "57038      2.0         5          5      1  \n",
       "\n",
       "[57039 rows x 7 columns]"
      ]
     },
     "execution_count": 3,
     "metadata": {},
     "output_type": "execute_result"
    }
   ],
   "source": [
    "train_df                                                                                # 训练集 "
   ]
  },
  {
   "cell_type": "code",
   "execution_count": 4,
   "metadata": {},
   "outputs": [
    {
     "data": {
      "text/html": [
       "<div>\n",
       "<style scoped>\n",
       "    .dataframe tbody tr th:only-of-type {\n",
       "        vertical-align: middle;\n",
       "    }\n",
       "\n",
       "    .dataframe tbody tr th {\n",
       "        vertical-align: top;\n",
       "    }\n",
       "\n",
       "    .dataframe thead th {\n",
       "        text-align: right;\n",
       "    }\n",
       "</style>\n",
       "<table border=\"1\" class=\"dataframe\">\n",
       "  <thead>\n",
       "    <tr style=\"text-align: right;\">\n",
       "      <th></th>\n",
       "      <th>Id</th>\n",
       "      <th>reviewerID</th>\n",
       "      <th>asin</th>\n",
       "      <th>reviewText</th>\n",
       "      <th>overall</th>\n",
       "    </tr>\n",
       "  </thead>\n",
       "  <tbody>\n",
       "    <tr>\n",
       "      <th>0</th>\n",
       "      <td>0</td>\n",
       "      <td>82947</td>\n",
       "      <td>37386</td>\n",
       "      <td>I REALLY wanted this series but I am in SHOCK ...</td>\n",
       "      <td>1.0</td>\n",
       "    </tr>\n",
       "    <tr>\n",
       "      <th>1</th>\n",
       "      <td>1</td>\n",
       "      <td>10154</td>\n",
       "      <td>23543</td>\n",
       "      <td>I have to say that this is a work of art for m...</td>\n",
       "      <td>4.0</td>\n",
       "    </tr>\n",
       "    <tr>\n",
       "      <th>2</th>\n",
       "      <td>2</td>\n",
       "      <td>5789</td>\n",
       "      <td>5724</td>\n",
       "      <td>Alien 3 is certainly the most controversal fil...</td>\n",
       "      <td>3.0</td>\n",
       "    </tr>\n",
       "    <tr>\n",
       "      <th>3</th>\n",
       "      <td>3</td>\n",
       "      <td>9198</td>\n",
       "      <td>5909</td>\n",
       "      <td>I love this film...preachy?  Well, of course i...</td>\n",
       "      <td>5.0</td>\n",
       "    </tr>\n",
       "    <tr>\n",
       "      <th>4</th>\n",
       "      <td>4</td>\n",
       "      <td>33252</td>\n",
       "      <td>21214</td>\n",
       "      <td>Even though I previously bought the Gamera Dou...</td>\n",
       "      <td>5.0</td>\n",
       "    </tr>\n",
       "    <tr>\n",
       "      <th>...</th>\n",
       "      <td>...</td>\n",
       "      <td>...</td>\n",
       "      <td>...</td>\n",
       "      <td>...</td>\n",
       "      <td>...</td>\n",
       "    </tr>\n",
       "    <tr>\n",
       "      <th>11203</th>\n",
       "      <td>11203</td>\n",
       "      <td>18250</td>\n",
       "      <td>35309</td>\n",
       "      <td>I honestly never heard of the graphic novel un...</td>\n",
       "      <td>5.0</td>\n",
       "    </tr>\n",
       "    <tr>\n",
       "      <th>11204</th>\n",
       "      <td>11204</td>\n",
       "      <td>3200</td>\n",
       "      <td>2130</td>\n",
       "      <td>Archie Bunker's command to stifle YOURSELF! wa...</td>\n",
       "      <td>5.0</td>\n",
       "    </tr>\n",
       "    <tr>\n",
       "      <th>11205</th>\n",
       "      <td>11205</td>\n",
       "      <td>37366</td>\n",
       "      <td>41971</td>\n",
       "      <td>In LSD - My Problem Child, Albert Hoffman wrot...</td>\n",
       "      <td>5.0</td>\n",
       "    </tr>\n",
       "    <tr>\n",
       "      <th>11206</th>\n",
       "      <td>11206</td>\n",
       "      <td>1781</td>\n",
       "      <td>33089</td>\n",
       "      <td>I have owned this DVD for over a year now and ...</td>\n",
       "      <td>5.0</td>\n",
       "    </tr>\n",
       "    <tr>\n",
       "      <th>11207</th>\n",
       "      <td>11207</td>\n",
       "      <td>26372</td>\n",
       "      <td>35457</td>\n",
       "      <td>This movie is just a slap in the face [or othe...</td>\n",
       "      <td>1.0</td>\n",
       "    </tr>\n",
       "  </tbody>\n",
       "</table>\n",
       "<p>11208 rows × 5 columns</p>\n",
       "</div>"
      ],
      "text/plain": [
       "          Id  reviewerID   asin  \\\n",
       "0          0       82947  37386   \n",
       "1          1       10154  23543   \n",
       "2          2        5789   5724   \n",
       "3          3        9198   5909   \n",
       "4          4       33252  21214   \n",
       "...      ...         ...    ...   \n",
       "11203  11203       18250  35309   \n",
       "11204  11204        3200   2130   \n",
       "11205  11205       37366  41971   \n",
       "11206  11206        1781  33089   \n",
       "11207  11207       26372  35457   \n",
       "\n",
       "                                              reviewText  overall  \n",
       "0      I REALLY wanted this series but I am in SHOCK ...      1.0  \n",
       "1      I have to say that this is a work of art for m...      4.0  \n",
       "2      Alien 3 is certainly the most controversal fil...      3.0  \n",
       "3      I love this film...preachy?  Well, of course i...      5.0  \n",
       "4      Even though I previously bought the Gamera Dou...      5.0  \n",
       "...                                                  ...      ...  \n",
       "11203  I honestly never heard of the graphic novel un...      5.0  \n",
       "11204  Archie Bunker's command to stifle YOURSELF! wa...      5.0  \n",
       "11205  In LSD - My Problem Child, Albert Hoffman wrot...      5.0  \n",
       "11206  I have owned this DVD for over a year now and ...      5.0  \n",
       "11207  This movie is just a slap in the face [or othe...      1.0  \n",
       "\n",
       "[11208 rows x 5 columns]"
      ]
     },
     "execution_count": 4,
     "metadata": {},
     "output_type": "execute_result"
    }
   ],
   "source": [
    "test_df                                                                                     # 测试集特征和内容 "
   ]
  },
  {
   "cell_type": "code",
   "execution_count": 5,
   "metadata": {},
   "outputs": [
    {
     "data": {
      "text/html": [
       "<div>\n",
       "<style scoped>\n",
       "    .dataframe tbody tr th:only-of-type {\n",
       "        vertical-align: middle;\n",
       "    }\n",
       "\n",
       "    .dataframe tbody tr th {\n",
       "        vertical-align: top;\n",
       "    }\n",
       "\n",
       "    .dataframe thead th {\n",
       "        text-align: right;\n",
       "    }\n",
       "</style>\n",
       "<table border=\"1\" class=\"dataframe\">\n",
       "  <thead>\n",
       "    <tr style=\"text-align: right;\">\n",
       "      <th></th>\n",
       "      <th>Id</th>\n",
       "      <th>Expected</th>\n",
       "    </tr>\n",
       "  </thead>\n",
       "  <tbody>\n",
       "    <tr>\n",
       "      <th>0</th>\n",
       "      <td>0</td>\n",
       "      <td>0</td>\n",
       "    </tr>\n",
       "    <tr>\n",
       "      <th>1</th>\n",
       "      <td>1</td>\n",
       "      <td>0</td>\n",
       "    </tr>\n",
       "    <tr>\n",
       "      <th>2</th>\n",
       "      <td>2</td>\n",
       "      <td>0</td>\n",
       "    </tr>\n",
       "    <tr>\n",
       "      <th>3</th>\n",
       "      <td>3</td>\n",
       "      <td>0</td>\n",
       "    </tr>\n",
       "    <tr>\n",
       "      <th>4</th>\n",
       "      <td>4</td>\n",
       "      <td>0</td>\n",
       "    </tr>\n",
       "    <tr>\n",
       "      <th>...</th>\n",
       "      <td>...</td>\n",
       "      <td>...</td>\n",
       "    </tr>\n",
       "    <tr>\n",
       "      <th>11203</th>\n",
       "      <td>11203</td>\n",
       "      <td>0</td>\n",
       "    </tr>\n",
       "    <tr>\n",
       "      <th>11204</th>\n",
       "      <td>11204</td>\n",
       "      <td>0</td>\n",
       "    </tr>\n",
       "    <tr>\n",
       "      <th>11205</th>\n",
       "      <td>11205</td>\n",
       "      <td>0</td>\n",
       "    </tr>\n",
       "    <tr>\n",
       "      <th>11206</th>\n",
       "      <td>11206</td>\n",
       "      <td>0</td>\n",
       "    </tr>\n",
       "    <tr>\n",
       "      <th>11207</th>\n",
       "      <td>11207</td>\n",
       "      <td>0</td>\n",
       "    </tr>\n",
       "  </tbody>\n",
       "</table>\n",
       "<p>11208 rows × 2 columns</p>\n",
       "</div>"
      ],
      "text/plain": [
       "          Id  Expected\n",
       "0          0         0\n",
       "1          1         0\n",
       "2          2         0\n",
       "3          3         0\n",
       "4          4         0\n",
       "...      ...       ...\n",
       "11203  11203         0\n",
       "11204  11204         0\n",
       "11205  11205         0\n",
       "11206  11206         0\n",
       "11207  11207         0\n",
       "\n",
       "[11208 rows x 2 columns]"
      ]
     },
     "execution_count": 5,
     "metadata": {},
     "output_type": "execute_result"
    }
   ],
   "source": [
    "test_df_y                                                                                   # 测试集标签 "
   ]
  },
  {
   "cell_type": "markdown",
   "metadata": {},
   "source": [
    "### 4.2 特征提取"
   ]
  },
  {
   "cell_type": "markdown",
   "metadata": {},
   "source": [
    " votes_up 和 votes_all只有训练集中出现，用来构造标签的输出。不考虑特提取。 reviewerID、asin与其它参数结合起来，可以用来分析和标注水军刷好评或者恶意差评的情况。reviewText是重要特征。SnowNLP"
   ]
  },
  {
   "cell_type": "code",
   "execution_count": 37,
   "metadata": {},
   "outputs": [],
   "source": [
    "\n",
    "\n",
    "import numpy as np\n",
    "from sklearn.feature_extraction.text import TfidfVectorizer, CountVectorizer, HashingVectorizer\n",
    "from sklearn.preprocessing import MinMaxScaler\n",
    "from sklearn.calibration import CalibratedClassifierCV\n",
    "from sklearn.tree import DecisionTreeClassifier\n",
    "from sklearn.naive_bayes import BernoulliNB\n",
    "from sklearn.neighbors import KNeighborsClassifier\n",
    "from sklearn.metrics import roc_auc_score,roc_curve, auc, accuracy_score\n",
    "from sklearn.svm import LinearSVC\n",
    "from nltk.corpus import stopwords \n",
    "from nltk.tokenize import word_tokenize, sent_tokenize\n",
    "from nltk.stem import WordNetLemmatizer, SnowballStemmer\n",
    "from scipy.sparse import hstack\n",
    "from snownlp import SnowNLP\n",
    "import matplotlib.pyplot as plt\n",
    "from prettytable import PrettyTable\n",
    "\n",
    "# 用户\n",
    "train_reviewerID = MinMaxScaler().fit_transform(train_df['reviewerID'].values.reshape(-1, 1))\n",
    "test_reviewerID = MinMaxScaler().fit_transform(test_df['reviewerID'].values.reshape(-1, 1))\n",
    "\n",
    "# 商品\n",
    "train_asin = MinMaxScaler().fit_transform(train_df['asin'].values.reshape(-1, 1))\n",
    "test_asin = MinMaxScaler().fit_transform(test_df['asin'].values.reshape(-1, 1))\n",
    "\n",
    "# 总评分\n",
    "train_overall = train_df['overall'].values.reshape((-1, 1)) / 5\n",
    "test_overall = test_df['overall'].values.reshape((-1, 1)) / 5 \n",
    "\n",
    "# 情感\n",
    "train_df['sentiments'] = train_df['reviewText'].map(lambda x: SnowNLP(x).sentiments)\n",
    "train_df['sentiments'] = pd.cut(train_df['sentiments'].rank(method='first'), 5, labels=[-1, -0.5, 0, 0.5, 1])\n",
    "train_sentiments = train_df['sentiments'].values.reshape((-1, 1))\n",
    "test_df['sentiments'] = test_df['reviewText'].map(lambda x: SnowNLP(x).sentiments)\n",
    "test_df['sentiments'] = pd.cut(test_df['sentiments'].rank(method='first'), 5, labels=[-1, -0.5, 0, 0.5, 1])\n",
    "test_sentiments = test_df['sentiments'].values.reshape((-1, 1))\n",
    "\n",
    "# 评论长度\n",
    "train_df['keywords_len'] = train_df['reviewText'].map(lambda x: len(x.split(' ')))\n",
    "train_df['keywords_len'] = pd.cut(train_df['keywords_len'].rank(method='first'), 5, labels=[0,0.25,0.5,0.75,1])\n",
    "train_keywords_len = train_df['keywords_len'].values.reshape((-1, 1))\n",
    "test_df['keywords_len'] = test_df['reviewText'].map(lambda x: len(x.split(' ')))\n",
    "test_df['keywords_len'] = pd.cut(test_df['keywords_len'].rank(method='first'), 5, labels=[0,0.25,0.5,0.75,1])\n",
    "test_keywords_len= test_df['keywords_len'].values.reshape((-1, 1))\n",
    "\n",
    "# 文本预处理\n",
    "def pretreatment_text(comment):\n",
    "    # sens = sent_tokenize(comment)                                                     # 文本分句\n",
    "    # word_tokens = [word_tokenize(s) for s in sens ]\n",
    "    words = word_tokenize(comment)                                                      # 文本分词\n",
    "    words = [SnowballStemmer('english').stem(y) for y in words]                         # 提取词干 \n",
    "    # words = [WordNetLemmatizer().lemmatize(y) for y in words]                         # 词形还原   \n",
    "    words = [w for w in words if not w in stopwords.words('english')]                   # 停用词 \n",
    "    # return ' '.join(words)\n",
    "    return words \n",
    "\n",
    "# tf/idf 处理文本特征\n",
    "word_model = TfidfVectorizer()                # HashingVectorizer(tokenizer=pretreatment_text)\n",
    "train_x = word_model.fit_transform(train_df['reviewText'])\n",
    "test_x = word_model.transform(test_df['reviewText']) \n",
    "\n",
    "# 拼接特征\n",
    "# train_x =hstack([train_x, train_overall, train_reviewerID, train_asin, train_sentiments, train_keywords_len])\n",
    "# test_x = hstack([test_x, train_overall, test_reviewerID, test_asin, test_sentiments, test_keywords_len])\n",
    "train_x =hstack([train_x, train_overall, train_asin, train_keywords_len])\n",
    "test_x = hstack([test_x, test_overall, test_asin, test_keywords_len])\n",
    "\n",
    "train_y = train_df['label']\n",
    "test_y = test_df_y['Expected']"
   ]
  },
  {
   "cell_type": "markdown",
   "metadata": {},
   "source": [
    "## 五、模型及调优"
   ]
  },
  {
   "cell_type": "markdown",
   "metadata": {},
   "source": [
    "### 5.1 基础模型"
   ]
  },
  {
   "cell_type": "markdown",
   "metadata": {},
   "source": [
    "#### 5.1.1 决策树"
   ]
  },
  {
   "cell_type": "code",
   "execution_count": 7,
   "metadata": {},
   "outputs": [
    {
     "data": {
      "text/plain": [
       "type                                                       base\n",
       "method                                                    dtree\n",
       "auc                                                    0.776377\n",
       "fpr           [0.0, 0.0002206531332744925, 0.000551632833186...\n",
       "tpr           [0.0, 0.0, 0.0009328358208955224, 0.0013992537...\n",
       "accuracy                                               0.810939\n",
       "parameters    max_depth:6; criterion:entropy; min_samples_sp...\n",
       "Name: 3, dtype: object"
      ]
     },
     "execution_count": 7,
     "metadata": {},
     "output_type": "execute_result"
    }
   ],
   "source": [
    "exec_result = pd.DataFrame(columns=['type','method','auc', 'fpr', 'tpr', 'accuracy','parameters'])\n",
    "\n",
    "for max_depth in range(2, 13):                                                                    \n",
    "    for criterion in ['gini','entropy']:\n",
    "        for min_samples_split in range(200, 500, 25):\n",
    "            clf = DecisionTreeClassifier(max_depth=max_depth, criterion = criterion, min_samples_split = min_samples_split)\n",
    "            clf.fit(train_x.tocsr(), train_y)\n",
    "            y_predict = clf.predict_proba(test_x)[:, 1]\n",
    "            fpr_tree,tpr_tree,thresholds=roc_curve(test_y, y_predict)                               # 计算fpr、tpr的值\n",
    "            auc_tree = roc_auc_score(test_y, y_predict)                                             # 计算auc的值\n",
    "            accuracy_tree = accuracy_score(test_y, np.around(y_predict, 0).astype(int))             # 计算accuracy的值\n",
    "            exec_result.loc[exec_result.shape[0]] = ['base', 'dtree', auc_tree, fpr_tree, tpr_tree, accuracy_tree, 'max_depth:' + str(max_depth) + '; criterion:' + criterion + '; min_samples_split:' + str(min_samples_split)]\n",
    "            \n",
    "best_index = exec_result.query(\"type=='base' & method=='dtree'\")['auc'].idxmax()\n",
    "auc_tree_best= exec_result.loc[best_index]\n",
    "auc_tree_best"
   ]
  },
  {
   "cell_type": "code",
   "execution_count": 8,
   "metadata": {},
   "outputs": [
    {
     "data": {
      "text/plain": [
       "type                                                       base\n",
       "method                                                    dtree\n",
       "auc                                                    0.776377\n",
       "fpr           [0.0, 0.0002206531332744925, 0.000551632833186...\n",
       "tpr           [0.0, 0.0, 0.0009328358208955224, 0.0013992537...\n",
       "accuracy                                               0.810939\n",
       "parameters    max_depth:6; criterion:entropy; min_samples_sp...\n",
       "Name: 3, dtype: object"
      ]
     },
     "execution_count": 8,
     "metadata": {},
     "output_type": "execute_result"
    }
   ],
   "source": [
    "auc_tree_best"
   ]
  },
  {
   "cell_type": "markdown",
   "metadata": {},
   "source": [
    "#### 5.1.2 朴素贝叶斯"
   ]
  },
  {
   "cell_type": "code",
   "execution_count": 9,
   "metadata": {},
   "outputs": [
    {
     "data": {
      "text/plain": [
       "type                                                       base\n",
       "method                                                       nb\n",
       "auc                                                    0.727823\n",
       "fpr           [0.0, 0.03287731685789938, 0.03398058252427184...\n",
       "tpr           [0.0, 0.10587686567164178, 0.11007462686567164...\n",
       "accuracy                                               0.753658\n",
       "parameters                                           alpha:0.01\n",
       "Name: 4, dtype: object"
      ]
     },
     "execution_count": 9,
     "metadata": {},
     "output_type": "execute_result"
    }
   ],
   "source": [
    "for a in range(1,10):\n",
    "    clf = BernoulliNB(alpha=a/100)\n",
    "    clf.fit(train_x, train_y)\n",
    "    y_predict = clf.predict_proba(test_x)[:,1]\n",
    "    fpr_nb,tpr_nb,thresholds=roc_curve(test_y, y_predict)                                   # 计算fpr、tpr的值\n",
    "    auc_nb = roc_auc_score(test_y, y_predict)                                               # 计算auc的值\n",
    "    accuracy_nb = accuracy_score(test_y,np.around(y_predict, 0).astype(int))                # 计算accuracy的值\n",
    "    exec_result.loc[exec_result.shape[0]] = ['base', 'nb', auc_nb, fpr_nb, tpr_nb, accuracy_nb, 'alpha:' + str(a/100)]\n",
    "    \n",
    "best_index = exec_result.query(\"type=='base' & method=='nb'\")['auc'].idxmax()\n",
    "auc_nb_best= exec_result.loc[best_index]\n",
    "auc_nb_best"
   ]
  },
  {
   "cell_type": "code",
   "execution_count": 14,
   "metadata": {},
   "outputs": [],
   "source": [
    "# exec_result = exec_result.drop(exec_result[exec_result['method']=='bn'].index)\n",
    "# exec_result = exec_result.drop(exec_result[exec_result['method']=='knn'].index)\n",
    "# exec_result = exec_result.drop(exec_result[exec_result['method']=='svm'].index)"
   ]
  },
  {
   "cell_type": "markdown",
   "metadata": {},
   "source": [
    "#### 5.1.3  K近邻"
   ]
  },
  {
   "cell_type": "code",
   "execution_count": 10,
   "metadata": {},
   "outputs": [
    {
     "data": {
      "text/plain": [
       "type                                                       base\n",
       "method                                                      knn\n",
       "auc                                                    0.795837\n",
       "fpr           [0.0, 0.0, 0.0, 0.00011032656663724625, 0.0001...\n",
       "tpr           [0.0, 0.0004664179104477612, 0.006063432835820...\n",
       "accuracy                                                0.81424\n",
       "parameters                    n_neighbors:101; weights:distance\n",
       "Name: 6, dtype: object"
      ]
     },
     "execution_count": 10,
     "metadata": {},
     "output_type": "execute_result"
    }
   ],
   "source": [
    "\n",
    "for k in [1, 3, 5, 7, 9, 11, 21, 31, 41, 51, 61, 71, 81, 91, 101,                           # for k in list(range(1,10,2)) + list(range(11,200,10))  :  \n",
    "        111, 121, 131, 141, 151, 161, 171, 181, 191]:   \n",
    "    for w in ['uniform', 'distance']:\n",
    "        clf = KNeighborsClassifier(n_neighbors=k, weights=w)\n",
    "        clf.fit(train_x, train_y)\n",
    "        y_predict = clf.predict_proba(test_x)[:,1]\n",
    "        fpr_knn,tpr_knn,thresholds=roc_curve(test_y, y_predict)                             # 计算fpr、tpr的值\n",
    "        auc_knn = roc_auc_score(test_y, y_predict)                                          # 计算auc的值\n",
    "        accuracy_knn = accuracy_score(test_y, np.around(y_predict, 0).astype(int))          # 计算accuracy的值\n",
    "        exec_result.loc[exec_result.shape[0]] = ['base', 'knn', auc_knn, fpr_knn, tpr_knn, accuracy_knn, 'n_neighbors:' + str(k) + '; weights:' + w]\n",
    "            \n",
    "best_index = exec_result.query(\"type=='base' & method=='knn'\")['auc'].idxmax()\n",
    "auc_knn_best= exec_result.loc[best_index]\n",
    "auc_knn_best "
   ]
  },
  {
   "cell_type": "code",
   "execution_count": 11,
   "metadata": {},
   "outputs": [
    {
     "data": {
      "text/html": [
       "<div>\n",
       "<style scoped>\n",
       "    .dataframe tbody tr th:only-of-type {\n",
       "        vertical-align: middle;\n",
       "    }\n",
       "\n",
       "    .dataframe tbody tr th {\n",
       "        vertical-align: top;\n",
       "    }\n",
       "\n",
       "    .dataframe thead th {\n",
       "        text-align: right;\n",
       "    }\n",
       "</style>\n",
       "<table border=\"1\" class=\"dataframe\">\n",
       "  <thead>\n",
       "    <tr style=\"text-align: right;\">\n",
       "      <th></th>\n",
       "      <th>type</th>\n",
       "      <th>method</th>\n",
       "      <th>auc</th>\n",
       "      <th>fpr</th>\n",
       "      <th>tpr</th>\n",
       "      <th>accuracy</th>\n",
       "      <th>parameters</th>\n",
       "    </tr>\n",
       "  </thead>\n",
       "  <tbody>\n",
       "    <tr>\n",
       "      <th>5</th>\n",
       "      <td>base</td>\n",
       "      <td>knn</td>\n",
       "      <td>0.794765</td>\n",
       "      <td>[0.0, 0.0, 0.0, 0.0, 0.0, 0.000110326566637246...</td>\n",
       "      <td>[0.0, 0.0009328358208955224, 0.002798507462686...</td>\n",
       "      <td>0.81424</td>\n",
       "      <td>n_neighbors:101; weights:uniform</td>\n",
       "    </tr>\n",
       "    <tr>\n",
       "      <th>6</th>\n",
       "      <td>base</td>\n",
       "      <td>knn</td>\n",
       "      <td>0.795837</td>\n",
       "      <td>[0.0, 0.0, 0.0, 0.00011032656663724625, 0.0001...</td>\n",
       "      <td>[0.0, 0.0004664179104477612, 0.006063432835820...</td>\n",
       "      <td>0.81424</td>\n",
       "      <td>n_neighbors:101; weights:distance</td>\n",
       "    </tr>\n",
       "  </tbody>\n",
       "</table>\n",
       "</div>"
      ],
      "text/plain": [
       "   type method       auc                                                fpr  \\\n",
       "5  base    knn  0.794765  [0.0, 0.0, 0.0, 0.0, 0.0, 0.000110326566637246...   \n",
       "6  base    knn  0.795837  [0.0, 0.0, 0.0, 0.00011032656663724625, 0.0001...   \n",
       "\n",
       "                                                 tpr  accuracy  \\\n",
       "5  [0.0, 0.0009328358208955224, 0.002798507462686...   0.81424   \n",
       "6  [0.0, 0.0004664179104477612, 0.006063432835820...   0.81424   \n",
       "\n",
       "                          parameters  \n",
       "5   n_neighbors:101; weights:uniform  \n",
       "6  n_neighbors:101; weights:distance  "
      ]
     },
     "execution_count": 11,
     "metadata": {},
     "output_type": "execute_result"
    }
   ],
   "source": [
    "# exec_result = exec_result.drop(exec_result[exec_result['method']=='knn'].index)\n",
    "\n",
    "ra =exec_result.query(\"type=='base' & method=='knn'\")\n",
    "ra\n"
   ]
  },
  {
   "cell_type": "markdown",
   "metadata": {},
   "source": [
    "#### 5.1.4  支持向量机"
   ]
  },
  {
   "cell_type": "code",
   "execution_count": 12,
   "metadata": {},
   "outputs": [
    {
     "data": {
      "text/plain": [
       "type                                                       base\n",
       "method                                                      svm\n",
       "auc                                                    0.792405\n",
       "fpr           [0.0, 0.00011032656663724625, 0.00011032656663...\n",
       "tpr           [0.0, 0.0, 0.0032649253731343282, 0.0032649253...\n",
       "accuracy                                               0.809868\n",
       "parameters                                                  C:1\n",
       "Name: 7, dtype: object"
      ]
     },
     "execution_count": 12,
     "metadata": {},
     "output_type": "execute_result"
    }
   ],
   "source": [
    "for c in range(1,10):\n",
    "    clf = LinearSVC(C=c, dual=False)\n",
    "    clf.fit(train_x, train_y)\n",
    "    y_predict = clf._predict_proba_lr(test_x)[:,1]\n",
    "    fpr_svm,tpr_svm,thresholds=roc_curve(test_y, y_predict)                                 # 计算fpr、tpr的值\n",
    "    auc_svm = roc_auc_score(test_y, y_predict)                                              # 计算auc的值\n",
    "    accuracy_svm = accuracy_score(test_y, np.around(y_predict, 0).astype(int))              # 计算accuracy的值\n",
    "    exec_result.loc[exec_result.shape[0]] = ['base', 'svm', auc_svm, fpr_svm, tpr_svm, accuracy_svm, 'C:' + str(c)]\n",
    "            \n",
    "best_index = exec_result.query(\"type=='base' & method=='svm'\")['auc'].idxmax()\n",
    "auc_svm_best= exec_result.loc[best_index]\n",
    "auc_svm_best "
   ]
  },
  {
   "cell_type": "markdown",
   "metadata": {},
   "source": [
    "### 5.2 Bagging\n"
   ]
  },
  {
   "cell_type": "code",
   "execution_count": 14,
   "metadata": {},
   "outputs": [],
   "source": [
    "def bagging(clf, n_estimators, max_samples, train_X, train_Y, test_X, have_proba = True):\n",
    "    '''\n",
    "    clf:分类器；\n",
    "    n_estimators: 采样次数；\n",
    "    max_samples: 采样的最大样本数（样本充许重复）,\n",
    "    train_X: 训练集特征\n",
    "    train_Y: 训练集标签\n",
    "    test_X: 测试集特征\n",
    "    have_proba: 分类器是否有predict_proba方法。如果没有，使用_predict_proba_lr\n",
    "    '''\n",
    "    y_predict = np.zeros(test_X.shape[0])                                                           # 测试集预测结果\n",
    "    for n in range(n_estimators):\n",
    "        train_indexs = np.random.choice(np.arange(max_samples), size=max_samples, replace=True)     # 放回重取样max_samplesu次\n",
    "        clf.fit( train_X[train_indexs], train_Y[train_indexs]  )    \n",
    "        if have_proba:                                                                              # 累加预测结果\n",
    "            y_predict += clf.predict_proba(test_X)[:, 1]                                            \n",
    "        else:\n",
    "            y_predict += clf._predict_proba_lr(test_X)[:, 1]                                          \n",
    "    y_predict /= n_estimators                                                                       # 算术平均计算投票结果\n",
    "    # y_predict = np.argmax(y_predict, axis=1)\n",
    "    # y_predict = np.around(y_predict, 0).astype(int)\n",
    "    return y_predict "
   ]
  },
  {
   "cell_type": "markdown",
   "metadata": {},
   "source": [
    "#### 5.2.1 决策树"
   ]
  },
  {
   "cell_type": "code",
   "execution_count": 15,
   "metadata": {},
   "outputs": [
    {
     "name": "stdout",
     "output_type": "stream",
     "text": [
      "[0.10570429 0.25968711 0.10631068 ... 0.29118449 0.62043077 0.08444054]\n",
      "auc:0.7779228100999854; n_estimators:21; max_samples:5000\n",
      "[0.09275034 0.27158733 0.12008416 ... 0.27161783 0.6938193  0.07942331]\n",
      "auc:0.781648801721753; n_estimators:21; max_samples:10000\n",
      "[0.09313335 0.25849565 0.09520334 ... 0.29724987 0.59663263 0.07317406]\n",
      "auc:0.7816553111950177; n_estimators:21; max_samples:20000\n",
      "[0.07642983 0.21540089 0.13524258 ... 0.34071199 0.72193685 0.0685028 ]\n",
      "auc:0.780829122673262; n_estimators:21; max_samples:30000\n",
      "[0.08365526 0.23376951 0.09727399 ... 0.36382512 0.77345216 0.06219919]\n",
      "auc:0.7846624305518963; n_estimators:21; max_samples:57039\n"
     ]
    },
    {
     "data": {
      "text/plain": [
       "type                                                    bagging\n",
       "method                                                     tree\n",
       "auc                                                    0.784662\n",
       "fpr           [0.0, 0.00011032656663724625, 0.00011032656663...\n",
       "tpr           [0.0, 0.0, 0.0018656716417910447, 0.0018656716...\n",
       "accuracy                                                0.81076\n",
       "parameters                   n_estimators:21; max_samples:57039\n",
       "Name: 20, dtype: object"
      ]
     },
     "execution_count": 15,
     "metadata": {},
     "output_type": "execute_result"
    }
   ],
   "source": [
    "np.random.seed(0)\n",
    "clf = DecisionTreeClassifier(max_depth=6, criterion='entropy', min_samples_split=275)\n",
    "clf = CalibratedClassifierCV(clf, cv=2, method='sigmoid')  # 概率校正\n",
    "\n",
    "for n in range(2, 30):        \n",
    "    for max in [5000, 10000, 20000, 30000, len(train_y)]: \n",
    "        y_predict = bagging(clf,n, max, train_x.tocsr(), train_y, test_x)\n",
    "        print(y_predict)\n",
    "        fpr_bagging_tree, tpr_bagging_tree, thresholds=roc_curve(test_y, y_predict)                 # 计算fpr、tpr的值\n",
    "        auc_bagging_tree = roc_auc_score(test_y, y_predict)                                         # 计算auc的值 auc(fpr_bagging_tree, tpr_bagging_tree)\n",
    "        accuracy_bagging_tree = accuracy_score(test_y,  np.around(y_predict, 0).astype(int))        # 计算accuracy的值\n",
    "        exec_result.loc[exec_result.shape[0]] = ['bagging', 'tree', auc_bagging_tree, fpr_bagging_tree, tpr_bagging_tree, accuracy_bagging_tree, 'n_estimators:' + str(n) + '; max_samples:' + str(max)]\n",
    "        print('auc:' + str(auc_bagging_tree) + '; n_estimators:' + str(n) + '; max_samples:' + str(max))\n",
    "best_index = exec_result.query(\"type=='bagging' & method=='tree'\")['auc'].idxmax()\n",
    "auc_bagging_tree_best= exec_result.loc[best_index]\n",
    "auc_bagging_tree_best"
   ]
  },
  {
   "cell_type": "markdown",
   "metadata": {},
   "source": [
    "#### 5.2.2 朴素贝叶斯"
   ]
  },
  {
   "cell_type": "code",
   "execution_count": 16,
   "metadata": {},
   "outputs": [
    {
     "name": "stdout",
     "output_type": "stream",
     "text": [
      "auc:0.7191604570236856; n_estimators:7; max_samples:5000\n",
      "auc:0.7360312364150123; n_estimators:7; max_samples:10000\n",
      "auc:0.730566675119548; n_estimators:7; max_samples:20000\n",
      "auc:0.7300790563949889; n_estimators:7; max_samples:30000\n",
      "auc:0.7235539912693812; n_estimators:7; max_samples:57039\n"
     ]
    },
    {
     "data": {
      "text/plain": [
       "type                                                    bagging\n",
       "method                                                       nb\n",
       "auc                                                    0.736031\n",
       "fpr           [0.0, 0.0007722859664607238, 0.000992939099735...\n",
       "tpr           [0.0, 0.005597014925373134, 0.0055970149253731...\n",
       "accuracy                                               0.807994\n",
       "parameters                    n_estimators:7; max_samples:10000\n",
       "Name: 22, dtype: object"
      ]
     },
     "execution_count": 16,
     "metadata": {},
     "output_type": "execute_result"
    }
   ],
   "source": [
    "np.random.seed(0)\n",
    "clf =BernoulliNB(alpha=0.01)\n",
    "clf = CalibratedClassifierCV(clf, cv=2, method='sigmoid')  # 概率校正\n",
    "\n",
    "for n in [7]:        \n",
    "    for max in [5000, 10000, 20000, 30000, len(train_y)]:\n",
    "        y_predict = bagging(clf,n, max, train_x.tocsr(), train_y, test_x)\n",
    "        fpr_bagging_nb,tpr_bagging_nb,thresholds=roc_curve(test_y, y_predict)                       # 计算fpr、tpr的值\n",
    "        auc_bagging_nb = roc_auc_score(test_y, y_predict)                                           # 计算auc的值 auc(fpr_bagging_nb, tpr_bagging_nb)\n",
    "        accuracy_bagging_nb = accuracy_score(test_y,  np.around(y_predict, 0).astype(int))          # 计算accuracy的值\n",
    "        exec_result.loc[exec_result.shape[0]] = ['bagging', 'nb', auc_bagging_nb, fpr_bagging_nb, tpr_bagging_nb, accuracy_bagging_nb, 'n_estimators:' + str(n) + '; max_samples:' + str(max)]\n",
    "        print('auc:' + str(auc_bagging_nb) + '; n_estimators:' + str(n) + '; max_samples:' + str(max))\n",
    "best_index = exec_result.query(\"type=='bagging' & method=='nb'\")['auc'].idxmax()\n",
    "auc_bagging_nb_best= exec_result.loc[best_index]\n",
    "auc_bagging_nb_best "
   ]
  },
  {
   "cell_type": "markdown",
   "metadata": {},
   "source": [
    "#### 5.2.3 K近邻"
   ]
  },
  {
   "cell_type": "code",
   "execution_count": 17,
   "metadata": {},
   "outputs": [
    {
     "name": "stdout",
     "output_type": "stream",
     "text": [
      "auc:0.7680120984606974; n_estimators:3; max_samples:5000\n",
      "auc:0.7778667720257934; n_estimators:3; max_samples:10000\n",
      "auc:0.7814152840168092; n_estimators:3; max_samples:20000\n",
      "auc:0.7845703459478863; n_estimators:3; max_samples:30000\n",
      "auc:0.7929782183247488; n_estimators:3; max_samples:57039\n"
     ]
    },
    {
     "data": {
      "text/plain": [
       "type                                                    bagging\n",
       "method                                                      knn\n",
       "auc                                                    0.792978\n",
       "fpr           [0.0, 0.0, 0.0, 0.00011032656663724625, 0.0001...\n",
       "tpr           [0.0, 0.0004664179104477612, 0.004197761194029...\n",
       "accuracy                                               0.807905\n",
       "parameters                    n_estimators:3; max_samples:57039\n",
       "Name: 30, dtype: object"
      ]
     },
     "execution_count": 17,
     "metadata": {},
     "output_type": "execute_result"
    }
   ],
   "source": [
    "np.random.seed(0)\n",
    "clf = KNeighborsClassifier(n_neighbors=101, weights='distance')\n",
    "clf = CalibratedClassifierCV(clf, cv=2, method='sigmoid')  # 概率校正\n",
    "\n",
    "for n in [range(2, 20)]:     \n",
    "    for max in [5000, 10000, 20000, 30000, len(train_y)]:\n",
    "        y_predict = bagging(clf,n, max, train_x.tocsr(), train_y, test_x)\n",
    "        fpr_bagging_knn,tpr_bagging_knn,thresholds=roc_curve(test_y, y_predict)                     # 计算fpr、tpr的值\n",
    "        auc_bagging_knn = roc_auc_score(test_y, y_predict)                                          # 计算auc的值 auc(fpr_bagging_knn, tpr_bagging_knn)\n",
    "        accuracy_bagging_knn = accuracy_score(test_y, np.around(y_predict, 0).astype(int))          # 计算accuracy的值\n",
    "        exec_result.loc[exec_result.shape[0]] = ['bagging', 'knn', auc_bagging_knn, fpr_bagging_knn, tpr_bagging_knn, accuracy_bagging_knn, 'n_estimators:' + str(n) + '; max_samples:' + str(max)]\n",
    "        print('auc:' + str(auc_bagging_knn) + '; n_estimators:' + str(n) + '; max_samples:' + str(max))\n",
    "best_index = exec_result.query(\"type=='bagging' & method=='knn'\")['auc'].idxmax()\n",
    "auc_bagging_knn_best= exec_result.loc[best_index]\n",
    "auc_bagging_knn_best"
   ]
  },
  {
   "cell_type": "markdown",
   "metadata": {},
   "source": [
    "#### 5.2.4 支持向量机"
   ]
  },
  {
   "cell_type": "code",
   "execution_count": 18,
   "metadata": {},
   "outputs": [
    {
     "name": "stdout",
     "output_type": "stream",
     "text": [
      "auc:0.7862520027565174; n_estimators:6; max_samples:5000\n",
      "auc:0.7952325544058173; n_estimators:6; max_samples:10000\n",
      "auc:0.7962541557712322; n_estimators:6; max_samples:20000\n",
      "auc:0.8007776479199324; n_estimators:6; max_samples:30000\n",
      "auc:0.8060589147982505; n_estimators:6; max_samples:57039\n"
     ]
    },
    {
     "data": {
      "text/plain": [
       "type                                                    bagging\n",
       "method                                                      svm\n",
       "auc                                                    0.806059\n",
       "fpr           [0.0, 0.0, 0.00011032656663724625, 0.000110326...\n",
       "tpr           [0.0, 0.0004664179104477612, 0.000466417910447...\n",
       "accuracy                                               0.821199\n",
       "parameters                    n_estimators:6; max_samples:57039\n",
       "Name: 35, dtype: object"
      ]
     },
     "execution_count": 18,
     "metadata": {},
     "output_type": "execute_result"
    }
   ],
   "source": [
    "\n",
    "np.random.seed(0)\n",
    "clf = LinearSVC(C=1,dual=False)\n",
    "clf = CalibratedClassifierCV(clf, cv=2, method='sigmoid')  # 概率校正\n",
    "\n",
    "for n in [range(2, 20)]:                                                                                # for n in range(5, 20, 2):\n",
    "    for max in [5000, 10000, 20000, 30000, len(train_y)]:\n",
    "        y_predict = bagging(clf,n, max, train_x.tocsr(), train_y, test_x)\n",
    "        fpr_bagging_svm,tpr_bagging_svm,thresholds=roc_curve(test_y, y_predict)                     # 计算fpr、tpr的值\n",
    "        auc_bagging_svm = roc_auc_score(test_y, y_predict)                                          # 计算auc的值 auc(fpr_bagging_svm, tpr_bagging_svm)\n",
    "        accuracy_bagging_svm = accuracy_score(test_y, np.around(y_predict, 0).astype(int))          # 计算accuracy的值\n",
    "        exec_result.loc[exec_result.shape[0]] = ['bagging', 'svm', auc_bagging_svm, fpr_bagging_svm, tpr_bagging_svm, accuracy_bagging_svm, 'n_estimators:' + str(n) + '; max_samples:' + str(max)]\n",
    "        print('auc:' + str(auc_bagging_svm) + '; n_estimators:' + str(n) + '; max_samples:' + str(max))\n",
    "best_index = exec_result.query(\"type=='bagging' & method=='svm'\")['auc'].idxmax()\n",
    "auc_bagging_svm_best= exec_result.loc[best_index]\n",
    "auc_bagging_svm_best"
   ]
  },
  {
   "cell_type": "markdown",
   "metadata": {},
   "source": [
    "### 5.3 Boosting"
   ]
  },
  {
   "cell_type": "code",
   "execution_count": 35,
   "metadata": {},
   "outputs": [],
   "source": [
    "# AdaBoost.M1\n",
    "def boosting(clf,n_estimators, train_X, train_Y, test_X, have_proba = True):\n",
    "    '''\n",
    "    采用AdaBoost.M1算法\n",
    "    clf: 分类器;\n",
    "    n_estimators: 迭代次数；\n",
    "    train_X: 训练集特征\n",
    "    train_Y: 训练集标签\n",
    "    test_X: 测试集特征\n",
    "    have_proba: 分类器是否有predict_proba方法。如果没有，使用_predict_proba_lr\n",
    "    '''\n",
    "    samples_count = len(train_Y)                                        # 样本数；也是样本初始总权重值\n",
    "    assert samples_count == train_X.shape[0], \"训练集的特征长度和标签长度不对应\"\n",
    "\n",
    "    results = list()                                                    # 所有轮的预测值\n",
    "    Bts =list()                                                         # 所有轮的投票权重\n",
    "    samples_weight = np.ones(samples_count)                             # 样本权重。每个样本初始权重为1。总和为样本总个数samples_count\n",
    "    loop_couter =0                                                      # 用来记录投票权重趋势没有变化时的迭代次数 \n",
    "    for i in range(n_estimators):\n",
    "        clf.fit(train_X, train_Y)                                       \n",
    "        train_y_predict = clf.predict(train_X)                          # 训练集的预测结果\n",
    "        samples_error = train_y_predict != train_Y                      # 错误分类的样本位置\n",
    "        e_t = samples_weight[samples_error].sum() / samples_count       # 错误率：所有错误分类的样本权重和（归一化）\n",
    "        if e_t > 0.5 or loop_couter >1 or e_t==i==0:                    # e_t==i==0: 第一轮就错误率为0.                       \n",
    "            break\n",
    "        B_t = e_t / (1 - e_t)\n",
    "        if e_t == 0.5 and B_t==1:                                       # e_t = 0.5 且B_t=1时，权重趋势没有变化。\n",
    "            loop_couter +=1\n",
    "        Bts.append(B_t)                                                 # 记录每i轮的投票权重\n",
    "        print('n_estimators:{:<2d}; error:{:2f}; beta_t:{:2f}'.format(i, e_t, B_t))\n",
    "        if have_proba:                                                  # 记录每i轮的预测值\n",
    "            results.append( clf.predict_proba(test_X)[:, 1])         \n",
    "        else:\n",
    "            results.append( clf._predict_proba_lr(test_X)[:, 1])                    \n",
    "\n",
    "        samples_weight *= (1.0 - samples_error) * B_t + samples_error   # 新样本权重 = 原正确分类*Bt + 原错误分类\n",
    "        samples_weight /= samples_weight.sum() / samples_count          # 归一化，让权重和等于 num_samples\n",
    "\n",
    "    Bts = np.log(1 / np.array(Bts))                                     # 各自投票权重为log[1/Bt]\n",
    "    Bts /= Bts.sum() \n",
    "    print('beta_ts:\\n', Bts)\n",
    "    print('results:\\n', results)\n",
    "    results = (np.array(results) * Bts[:, None]).sum(0)                 # 预测的结果=所有轮的预测值*所有轮的投票权重\n",
    "    # result = np.around(result,0).astype(int)                          # 预测的结果转为整数\n",
    "    return results "
   ]
  },
  {
   "cell_type": "markdown",
   "metadata": {},
   "source": [
    "#### 5.3.1 决策树"
   ]
  },
  {
   "cell_type": "code",
   "execution_count": 29,
   "metadata": {},
   "outputs": [
    {
     "name": "stdout",
     "output_type": "stream",
     "text": [
      "n_estimators:0 ; error:0.215940; beta_t:0.275413\n",
      "n_estimators:1 ; error:0.499875; beta_t:0.999501\n",
      "n_estimators:2 ; error:0.498267; beta_t:0.993091\n",
      "beta_ts:\n",
      " [9.94269655e-01 3.84636043e-04 5.34570859e-03]\n",
      "results:\n",
      " [array([0.06390529, 0.17315915, 0.12727172, ..., 0.38731615, 0.84522493,\n",
      "       0.06390529]), array([0.06395303, 0.17321297, 0.12732816, ..., 0.38733241, 0.8451216 ,\n",
      "       0.06395303]), array([0.06366931, 0.17310099, 0.12715772, ..., 0.38772892, 0.84638418,\n",
      "       0.06366931])]\n"
     ]
    },
    {
     "data": {
      "text/plain": [
       "0.77459083457931"
      ]
     },
     "execution_count": 29,
     "metadata": {},
     "output_type": "execute_result"
    }
   ],
   "source": [
    "clf = DecisionTreeClassifier(max_depth=6, criterion='entropy', min_samples_split=275)\n",
    "clf = CalibratedClassifierCV(clf, cv=2, method='sigmoid')  # 概率校正\n",
    "y_predict = boosting(clf,10, train_x.tocsr(), train_y, test_x)\n",
    "fpr_boosting_tree, tpr_boosting_tree, thresholds=roc_curve(test_y, y_predict)                   # 计算fpr、tpr的值\n",
    "auc_boosting_tree = roc_auc_score(test_y, y_predict)                                            # 计算auc的值 auc(fpr_boosting_tree, tpr_boosting_tree)\n",
    "accuracy_boosting_tree = accuracy_score(test_y, np.around(y_predict, 0).astype(int))            # 计算accuracy的值\n",
    "auc_boosting_tree "
   ]
  },
  {
   "cell_type": "markdown",
   "metadata": {},
   "source": [
    "#### 5.3.2 朴素贝叶斯"
   ]
  },
  {
   "cell_type": "code",
   "execution_count": 30,
   "metadata": {},
   "outputs": [
    {
     "name": "stdout",
     "output_type": "stream",
     "text": [
      "n_estimators:0 ; error:0.226196; beta_t:0.292317\n",
      "beta_ts:\n",
      " [1.]\n",
      "results:\n",
      " [array([0.15767762, 0.15767762, 0.2786705 , ..., 0.40894742, 0.40894742,\n",
      "       0.15767762])]\n"
     ]
    },
    {
     "data": {
      "text/plain": [
       "0.7272274954387375"
      ]
     },
     "execution_count": 30,
     "metadata": {},
     "output_type": "execute_result"
    }
   ],
   "source": [
    "clf =BernoulliNB(alpha=0.01)\n",
    "clf = CalibratedClassifierCV(clf, cv=2, method='sigmoid')  # 概率校正\n",
    "y_predict = boosting(clf, 10, train_x.tocsr(), train_y, test_x)\n",
    "fpr_boosting_nb,tpr_boosting_nb,thresholds=roc_curve(test_y, y_predict)                         # 计算fpr、tpr的值\n",
    "auc_boosting_nb = roc_auc_score(test_y, y_predict)                                              # 计算auc的值 auc(fpr_boosting_nb, tpr_boosting_nb)\n",
    "accuracy_boosting_nb = accuracy_score(test_y, np.around(y_predict, 0).astype(int))              # 计算accuracy的值\n",
    "auc_boosting_nb "
   ]
  },
  {
   "cell_type": "markdown",
   "metadata": {},
   "source": [
    "#### 5.3.3 K近邻"
   ]
  },
  {
   "cell_type": "code",
   "execution_count": null,
   "metadata": {},
   "outputs": [],
   "source": [
    "clf = KNeighborsClassifier(n_neighbors=101, weights='distance')\n",
    "clf = CalibratedClassifierCV(clf, cv=2, method='sigmoid')  # 概率校正\n",
    "\n",
    "y_predict = boosting(clf, 10, train_x.tocsr(), train_y, test_x)\n",
    "fpr_boosting_knn,tpr_boosting_knn,thresholds=roc_curve(test_y, y_predict)                           # 计算fpr、tpr的值\n",
    "auc_boosting_knn =  roc_auc_score(test_y, y_predict)                                                # 计算auc的值 auc(fpr_boosting_knn, tpr_boosting_knn)\n",
    "accuracy_boosting_knn = accuracy_score(test_y, np.around(y_predict, 0).astype(int))                 # 计算accuracy的值\n",
    "auc_boosting_knn "
   ]
  },
  {
   "cell_type": "markdown",
   "metadata": {},
   "source": [
    "#### 5.3.4 支持向量机"
   ]
  },
  {
   "cell_type": "code",
   "execution_count": 36,
   "metadata": {},
   "outputs": [
    {
     "name": "stdout",
     "output_type": "stream",
     "text": [
      "n_estimators:0 ; error:0.141184; beta_t:0.164394\n",
      "beta_ts:\n",
      " [1.]\n",
      "results:\n",
      " [array([0.15260473, 0.08459821, 0.17318018, ..., 0.32973116, 0.70743028,\n",
      "       0.02403045])]\n"
     ]
    },
    {
     "data": {
      "text/plain": [
       "0.8026624105860811"
      ]
     },
     "execution_count": 36,
     "metadata": {},
     "output_type": "execute_result"
    }
   ],
   "source": [
    "clf = LinearSVC(C=1, dual=False)\n",
    "clf = CalibratedClassifierCV(clf, cv=2, method='sigmoid')  # 概率校正\n",
    "y_predict = boosting(clf, 10, train_x.tocsr(), train_y, test_x)\n",
    "fpr_boosting_svm,tpr_boosting_svm,thresholds=roc_curve(test_y, y_predict)                           # 计算fpr、tpr的值\n",
    "auc_boosting_svm =  roc_auc_score(test_y, y_predict)                                                # 计算auc的值 auc(fpr_boosting_knn, tpr_boosting_knn)\n",
    "accuracy_boosting_svm = accuracy_score(test_y, np.around(y_predict, 0).astype(int))                 # 计算accuracy的值\n",
    "\n",
    "auc_boosting_svm"
   ]
  },
  {
   "cell_type": "markdown",
   "metadata": {},
   "source": [
    "## 六、小结"
   ]
  },
  {
   "cell_type": "markdown",
   "metadata": {},
   "source": [
    "AUC对比"
   ]
  },
  {
   "cell_type": "code",
   "execution_count": 33,
   "metadata": {},
   "outputs": [
    {
     "data": {
      "text/plain": [
       "<matplotlib.legend.Legend at 0x7f1ea87205e0>"
      ]
     },
     "execution_count": 33,
     "metadata": {},
     "output_type": "execute_result"
    },
    {
     "data": {
      "image/png": "[encoded data removed]",
      "text/plain": [
       "<Figure size 1000x1000 with 3 Axes>"
      ]
     },
     "metadata": {},
     "output_type": "display_data"
    }
   ],
   "source": [
    "plt.figure(figsize=(10,10), dpi=100)\n",
    "plt.rcParams['font.sans-serif']=['SimHei']\n",
    "ax_base = plt.subplot(221)\n",
    "# ax_base.fill_between(auc_tree_best.fpr, auc_tree_best.tpr,y2=0, facecolor='r', alpha=0.1)\n",
    "# ax_base.fill_between(auc_nb_best.fpr, auc_nb_best.tpr,y2=0, facecolor='b', alpha=0.4)\n",
    "ax_base.fill_between(auc_knn_best.fpr, auc_knn_best.tpr,y2=0, facecolor='g', alpha=0.1)\n",
    "# ax_base.fill_between(auc_svm_best.fpr, auc_svm_best.tpr,y2=0, facecolor='y', alpha=0.1)\n",
    "ax_base.plot(auc_tree_best.fpr, auc_tree_best.tpr, color='r',lw=0.75,label='auc(tree)= %0.4f' % auc_tree_best.auc)  \n",
    "ax_base.plot(auc_nb_best.fpr, auc_nb_best.tpr, color='b',lw=0.75,label='auc(nb)= %0.4f' % auc_nb_best.auc)         \n",
    "ax_base.plot(auc_knn_best.fpr, auc_knn_best.tpr, color='g',lw=0.75,label='auc(knn)= %0.4f' % auc_knn_best.auc)     \n",
    "ax_base.plot(auc_svm_best.fpr, auc_svm_best.tpr, color='y',lw=0.75,label='auc(svm)= %0.4f' % auc_svm_best.auc)     \n",
    "ax_base.set_xlim([0.0, 1.0])\n",
    "ax_base.set_ylim([0.0, 1.0])\n",
    "ax_base.set_xlabel('FPR')\n",
    "ax_base.set_ylabel('TPR')\n",
    "ax_base.set_title('Base',fontsize=12,fontweight='bold', y=-0.2)\n",
    "ax_base.legend()\n",
    "\n",
    "ax_bagging = plt.subplot(222)\n",
    "# ax_bagging.fill_between(auc_bagging_tree_best.fpr, auc_bagging_tree_best.tpr,y2=0, facecolor='r', alpha=0.1)\n",
    "# ax_bagging.fill_between(auc_bagging_nb_best.fpr, auc_bagging_nb_best.tpr,y2=0, facecolor='y', alpha=0.1)\n",
    "# ax_bagging.fill_between(auc_bagging_knn_best.fpr, auc_bagging_knn_best.tpr,y2=0, facecolor='b', alpha=0.4)\n",
    "ax_bagging.fill_between(auc_bagging_svm_best.fpr, auc_bagging_svm_best.tpr,y2=0, facecolor='g', alpha=0.1)\n",
    "ax_bagging.plot(auc_bagging_tree_best.fpr, auc_bagging_tree_best.tpr, color='r',lw=0.75,label='auc(tree)= %0.4f' % auc_bagging_tree_best.auc)   \n",
    "ax_bagging.plot(auc_bagging_nb_best.fpr, auc_bagging_nb_best.tpr, color='y',lw=0.75,label='auc(nb)= %0.4f' % auc_bagging_nb_best.auc)         \n",
    "ax_bagging.plot(auc_bagging_knn_best.fpr, auc_bagging_knn_best.tpr, color='b',lw=0.75,label='auc(knn)= %0.4f' % auc_bagging_knn_best.auc)     \n",
    "ax_bagging.plot(auc_bagging_svm_best.fpr, auc_bagging_svm_best.tpr, color='g',lw=0.75,label='auc(svm)= %0.4f' % auc_bagging_svm_best.auc)      \n",
    "ax_bagging.set_xlim([0.0, 1.0])\n",
    "ax_bagging.set_ylim([0.0, 1.0])\n",
    "ax_bagging.set_xlabel('FPR')\n",
    "ax_bagging.set_ylabel('TPR')\n",
    "ax_bagging.set_title('Bagging',fontsize=12,fontweight='bold', y=-0.2)\n",
    "ax_bagging.legend()\n",
    "\n",
    "ax_boosting = plt.subplot(223)\n",
    "# ax_boosting.fill_between(fpr_boosting_tree, tpr_boosting_tree, y2=0, facecolor='g', alpha=0.2)\n",
    "# ax_boosting.fill_between(fpr_boosting_nb, tpr_boosting_nb,y2=0, facecolor='y', alpha=0.1)\n",
    "# ax_boosting.fill_between(fpr_boosting_knn, tpr_boosting_knn,y2=0, facecolor='b', alpha=0.4)\n",
    "ax_boosting.fill_between(fpr_boosting_svm, tpr_boosting_svm,y2=0, facecolor='g', alpha=0.1)\n",
    "ax_boosting.plot(fpr_boosting_tree, tpr_boosting_tree, color='r',lw=0.75,label='auc(tree)= %0.4f' % auc_boosting_tree)  \n",
    "ax_boosting.plot(fpr_boosting_nb, tpr_boosting_nb, color='y',lw=0.75,label='auc(nb)= %0.4f' % auc_boosting_nb)        \n",
    "ax_boosting.plot(fpr_boosting_knn, tpr_boosting_knn, color='b',lw=0.75,label='auc(knn)= %0.4f' % auc_boosting_knn)     \n",
    "ax_boosting.plot(fpr_boosting_svm, tpr_boosting_svm, color='g',lw=0.75,label='auc(svm)= %0.4f' % auc_boosting_svm )      \n",
    "ax_boosting.set_xlim([0.0, 1.0])\n",
    "ax_boosting.set_ylim([0.0, 1.0])\n",
    "ax_boosting.set_xlabel('FPR')\n",
    "ax_boosting.set_ylabel('TPR')\n",
    "ax_boosting.set_title('Boosting',fontsize=12,fontweight='bold', y=-0.2)\n",
    "ax_boosting.legend()"
   ]
  },
  {
   "cell_type": "code",
   "execution_count": 34,
   "metadata": {},
   "outputs": [
    {
     "name": "stdout",
     "output_type": "stream",
     "text": [
      "+-------+--------+---------+----------+\n",
      "|       |  \u001b[1m\u001b[94mBase  | Bagging | Boosting\u001b[0m |\n",
      "+-------+--------+---------+----------+\n",
      "| \u001b[1m\u001b[94mDTree\u001b[0m | 0.7764 |  0.7847 |  0.7746  |\n",
      "|   \u001b[1m\u001b[94mNB\u001b[0m  | 0.7278 |  0.736  |  0.7272  |\n",
      "|  \u001b[1m\u001b[94mKNN\u001b[0m  | 0.7958 |  0.793  |  0.7937  |\n",
      "|  \u001b[1m\u001b[94mSVM\u001b[0m  | 0.7924 |  0.8061 |  0.8027  |\n",
      "+-------+--------+---------+----------+\n"
     ]
    }
   ],
   "source": [
    "pt = PrettyTable(['','\\033[1m\\033[94mBase','Bagging','Boosting\\033[0m'])\n",
    "pt.add_row(['\\033[1m\\033[94mDTree\\033[0m', np.round(auc_tree_best.auc, 4), np.round(auc_bagging_tree_best.auc, 4), np.round(auc_boosting_tree, 4)])\n",
    "pt.add_row(['\\033[1m\\033[94mNB\\033[0m',np.round(auc_nb_best.auc, 4), np.round(auc_bagging_nb_best.auc, 4), np.round(auc_boosting_nb, 4)])\n",
    "pt.add_row(['\\033[1m\\033[94mKNN\\033[0m', np.round(auc_knn_best.auc, 4), np.round(auc_bagging_knn_best.auc, 4), np.round(auc_boosting_knn, 4)])             \n",
    "pt.add_row(['\\033[1m\\033[94mSVM\\033[0m', np.round(auc_svm_best.auc, 4), np.round(auc_bagging_svm_best.auc, 4), np.round(auc_boosting_svm, 4)])\n",
    "print(pt) "
   ]
  }
 ],
 "metadata": {
  "kernelspec": {
   "display_name": "Python 3.9.7 64-bit",
   "language": "python",
   "name": "python3"
  },
  "language_info": {
   "codemirror_mode": {
    "name": "ipython",
    "version": 3
   },
   "file_extension": ".py",
   "mimetype": "text/x-python",
   "name": "python",
   "nbconvert_exporter": "python",
   "pygments_lexer": "ipython3",
   "version": "3.9.7"
  },
  "vscode": {
   "interpreter": {
    "hash": "c347c8f9a7ef94e4c9e03b4513be7835ed18f45b99a2a817fb579f408b867b16"
   }
  }
 },
 "nbformat": 4,
 "nbformat_minor": 4
}
