{
 "cells": [
  {
   "cell_type": "code",
   "execution_count": 1,
   "metadata": {},
   "outputs": [],
   "source": [
    "import pandas as pd \n",
    "import numpy as np"
   ]
  },
  {
   "cell_type": "markdown",
   "metadata": {},
   "source": [
    "## 1. 数据读取"
   ]
  },
  {
   "cell_type": "code",
   "execution_count": 2,
   "metadata": {},
   "outputs": [
    {
     "data": {
      "text/plain": [
       "(57039, 11208)"
      ]
     },
     "execution_count": 2,
     "metadata": {},
     "output_type": "execute_result"
    }
   ],
   "source": [
    "train_df = pd.read_csv('./data/train.csv', sep='\\t')\n",
    "test_df = pd.read_csv('./data/test.csv', sep='\\t')\n",
    "len(train_df), len(test_df)"
   ]
  },
  {
   "cell_type": "code",
   "execution_count": 3,
   "metadata": {},
   "outputs": [
    {
     "data": {
      "text/html": [
       "<div>\n",
       "<style scoped>\n",
       "    .dataframe tbody tr th:only-of-type {\n",
       "        vertical-align: middle;\n",
       "    }\n",
       "\n",
       "    .dataframe tbody tr th {\n",
       "        vertical-align: top;\n",
       "    }\n",
       "\n",
       "    .dataframe thead th {\n",
       "        text-align: right;\n",
       "    }\n",
       "</style>\n",
       "<table border=\"1\" class=\"dataframe\">\n",
       "  <thead>\n",
       "    <tr style=\"text-align: right;\">\n",
       "      <th></th>\n",
       "      <th>reviewerID</th>\n",
       "      <th>asin</th>\n",
       "      <th>reviewText</th>\n",
       "      <th>overall</th>\n",
       "      <th>votes_up</th>\n",
       "      <th>votes_all</th>\n",
       "      <th>label</th>\n",
       "    </tr>\n",
       "  </thead>\n",
       "  <tbody>\n",
       "    <tr>\n",
       "      <th>0</th>\n",
       "      <td>7885</td>\n",
       "      <td>3901</td>\n",
       "      <td>First off, allow me to correct a common mistak...</td>\n",
       "      <td>5.0</td>\n",
       "      <td>6</td>\n",
       "      <td>7</td>\n",
       "      <td>0</td>\n",
       "    </tr>\n",
       "    <tr>\n",
       "      <th>1</th>\n",
       "      <td>52087</td>\n",
       "      <td>47978</td>\n",
       "      <td>I am really troubled by this Story and Enterta...</td>\n",
       "      <td>3.0</td>\n",
       "      <td>99</td>\n",
       "      <td>134</td>\n",
       "      <td>0</td>\n",
       "    </tr>\n",
       "    <tr>\n",
       "      <th>2</th>\n",
       "      <td>5701</td>\n",
       "      <td>3667</td>\n",
       "      <td>A near-perfect film version of a downright glo...</td>\n",
       "      <td>4.0</td>\n",
       "      <td>14</td>\n",
       "      <td>14</td>\n",
       "      <td>1</td>\n",
       "    </tr>\n",
       "    <tr>\n",
       "      <th>3</th>\n",
       "      <td>47191</td>\n",
       "      <td>40892</td>\n",
       "      <td>Keep your expectations low.  Really really low...</td>\n",
       "      <td>1.0</td>\n",
       "      <td>4</td>\n",
       "      <td>7</td>\n",
       "      <td>0</td>\n",
       "    </tr>\n",
       "    <tr>\n",
       "      <th>4</th>\n",
       "      <td>40957</td>\n",
       "      <td>15367</td>\n",
       "      <td>\"they dont make em like this no more...\"well.....</td>\n",
       "      <td>5.0</td>\n",
       "      <td>3</td>\n",
       "      <td>6</td>\n",
       "      <td>0</td>\n",
       "    </tr>\n",
       "  </tbody>\n",
       "</table>\n",
       "</div>"
      ],
      "text/plain": [
       "   reviewerID   asin                                         reviewText  \\\n",
       "0        7885   3901  First off, allow me to correct a common mistak...   \n",
       "1       52087  47978  I am really troubled by this Story and Enterta...   \n",
       "2        5701   3667  A near-perfect film version of a downright glo...   \n",
       "3       47191  40892  Keep your expectations low.  Really really low...   \n",
       "4       40957  15367  \"they dont make em like this no more...\"well.....   \n",
       "\n",
       "   overall  votes_up  votes_all  label  \n",
       "0      5.0         6          7      0  \n",
       "1      3.0        99        134      0  \n",
       "2      4.0        14         14      1  \n",
       "3      1.0         4          7      0  \n",
       "4      5.0         3          6      0  "
      ]
     },
     "execution_count": 3,
     "metadata": {},
     "output_type": "execute_result"
    }
   ],
   "source": [
    "train_df.head()"
   ]
  },
  {
   "cell_type": "code",
   "execution_count": 4,
   "metadata": {},
   "outputs": [
    {
     "data": {
      "text/html": [
       "<div>\n",
       "<style scoped>\n",
       "    .dataframe tbody tr th:only-of-type {\n",
       "        vertical-align: middle;\n",
       "    }\n",
       "\n",
       "    .dataframe tbody tr th {\n",
       "        vertical-align: top;\n",
       "    }\n",
       "\n",
       "    .dataframe thead th {\n",
       "        text-align: right;\n",
       "    }\n",
       "</style>\n",
       "<table border=\"1\" class=\"dataframe\">\n",
       "  <thead>\n",
       "    <tr style=\"text-align: right;\">\n",
       "      <th></th>\n",
       "      <th>Id</th>\n",
       "      <th>reviewerID</th>\n",
       "      <th>asin</th>\n",
       "      <th>reviewText</th>\n",
       "      <th>overall</th>\n",
       "    </tr>\n",
       "  </thead>\n",
       "  <tbody>\n",
       "    <tr>\n",
       "      <th>0</th>\n",
       "      <td>0</td>\n",
       "      <td>82947</td>\n",
       "      <td>37386</td>\n",
       "      <td>I REALLY wanted this series but I am in SHOCK ...</td>\n",
       "      <td>1.0</td>\n",
       "    </tr>\n",
       "    <tr>\n",
       "      <th>1</th>\n",
       "      <td>1</td>\n",
       "      <td>10154</td>\n",
       "      <td>23543</td>\n",
       "      <td>I have to say that this is a work of art for m...</td>\n",
       "      <td>4.0</td>\n",
       "    </tr>\n",
       "    <tr>\n",
       "      <th>2</th>\n",
       "      <td>2</td>\n",
       "      <td>5789</td>\n",
       "      <td>5724</td>\n",
       "      <td>Alien 3 is certainly the most controversal fil...</td>\n",
       "      <td>3.0</td>\n",
       "    </tr>\n",
       "    <tr>\n",
       "      <th>3</th>\n",
       "      <td>3</td>\n",
       "      <td>9198</td>\n",
       "      <td>5909</td>\n",
       "      <td>I love this film...preachy?  Well, of course i...</td>\n",
       "      <td>5.0</td>\n",
       "    </tr>\n",
       "    <tr>\n",
       "      <th>4</th>\n",
       "      <td>4</td>\n",
       "      <td>33252</td>\n",
       "      <td>21214</td>\n",
       "      <td>Even though I previously bought the Gamera Dou...</td>\n",
       "      <td>5.0</td>\n",
       "    </tr>\n",
       "  </tbody>\n",
       "</table>\n",
       "</div>"
      ],
      "text/plain": [
       "   Id  reviewerID   asin                                         reviewText  \\\n",
       "0   0       82947  37386  I REALLY wanted this series but I am in SHOCK ...   \n",
       "1   1       10154  23543  I have to say that this is a work of art for m...   \n",
       "2   2        5789   5724  Alien 3 is certainly the most controversal fil...   \n",
       "3   3        9198   5909  I love this film...preachy?  Well, of course i...   \n",
       "4   4       33252  21214  Even though I previously bought the Gamera Dou...   \n",
       "\n",
       "   overall  \n",
       "0      1.0  \n",
       "1      4.0  \n",
       "2      3.0  \n",
       "3      5.0  \n",
       "4      5.0  "
      ]
     },
     "execution_count": 4,
     "metadata": {},
     "output_type": "execute_result"
    }
   ],
   "source": [
    "test_df.head()"
   ]
  },
  {
   "cell_type": "markdown",
   "metadata": {},
   "source": [
    "## 2. 特征提取"
   ]
  },
  {
   "cell_type": "code",
   "execution_count": 5,
   "metadata": {},
   "outputs": [],
   "source": [
    "import scipy\n",
    "import sklearn\n",
    "from sklearn.feature_extraction.text import TfidfVectorizer\n",
    "\n",
    "# tf/idf 处理文本特征\n",
    "word_model = TfidfVectorizer(stop_words='english')\n",
    "train_X = word_model.fit_transform(train_df['reviewText'])\n",
    "test_X = word_model.transform(test_df['reviewText']) \n",
    "\n",
    "# 拼上总评分特征\n",
    "train_X = scipy.sparse.hstack([train_X, train_df['overall'].values.reshape((-1, 1)) / 5])\n",
    "test_X = scipy.sparse.hstack([test_X, test_df['overall'].values.reshape((-1, 1)) / 5])"
   ]
  },
  {
   "cell_type": "markdown",
   "metadata": {},
   "source": [
    "## 3. Ensemble 算法实现"
   ]
  },
  {
   "cell_type": "code",
   "execution_count": 6,
   "metadata": {},
   "outputs": [],
   "source": [
    "from sklearn import svm\n",
    "from sklearn.tree import DecisionTreeClassifier\n",
    "from sklearn.naive_bayes import BernoulliNB\n",
    "from sklearn.calibration import CalibratedClassifierCV\n",
    "\n",
    "def construct_clf(clf_name):\n",
    "    clf = None\n",
    "    if clf_name == 'SVM':\n",
    "        clf = svm.LinearSVC()\n",
    "    elif clf_name == 'DTree' :\n",
    "        clf = DecisionTreeClassifier(max_depth=10, class_weight='balanced')\n",
    "    elif clf_name == 'NB' :\n",
    "        clf = BernoulliNB()\n",
    "    clf = CalibratedClassifierCV(clf, cv=2, method='sigmoid')  # 概率校正\n",
    "    return clf"
   ]
  },
  {
   "cell_type": "code",
   "execution_count": 7,
   "metadata": {},
   "outputs": [],
   "source": [
    "class Bagging(object):\n",
    "    def __init__(self, clf, num_iter):\n",
    "        self.clf = clf  # 分类器对象\n",
    "        self.num_iter = num_iter  # Bagging 的分类器个数\n",
    "        \n",
    "    def fit_predict(self, X, Y, test_X):\n",
    "        result = np.zeros(test_X.shape[0])  # 记录测试集的预测结果\n",
    "        train_idx = np.arange(len(Y))\n",
    "        for i in range(self.num_iter):\n",
    "            sample_idx = np.random.choice(train_idx, size=len(Y), replace=True)  # Bootstrap\n",
    "            sample_train_X = X[sample_idx]\n",
    "            sample_train_Y = Y[sample_idx]\n",
    "            self.clf.fit(sample_train_X, sample_train_Y)\n",
    "            print('Model {:>2d} finish!'.format(i))\n",
    "            predict_proba = self.clf.predict_proba(test_X)[:, 1]\n",
    "            result += predict_proba  # 累加不同分类器的预测概率\n",
    "        result /= self.num_iter  # 取平均（投票）\n",
    "        return result"
   ]
  },
  {
   "cell_type": "code",
   "execution_count": 8,
   "metadata": {},
   "outputs": [],
   "source": [
    "class AdaBoostM1(object):\n",
    "    def __init__(self, clf, num_iter):\n",
    "        self.clf = clf  # 分类器对象\n",
    "        self.num_iter = num_iter  # 迭代次数\n",
    "        \n",
    "    def fit_predict(self, X, Y, test_X):\n",
    "        result_lst, beta_lst = list(), list()  # 记录每次迭代的预测结果和投票权重\n",
    "        num_samples = len(Y)\n",
    "        weight = np.ones(num_samples)  # 样本权重，注意总和应为 num_samples\n",
    "        for i in range(self.num_iter):\n",
    "            self.clf.fit(X, Y, sample_weight=weight)  # 带权重的 fit\n",
    "            print('Model {:<2d} finish!'.format(i))\n",
    "            train_predict = self.clf.predict(X)  # 训练集预测结果\n",
    "            error_flag = train_predict != Y  # 预测错误的位置\n",
    "            error = weight[error_flag].sum() / num_samples  # 计算错误率\n",
    "            if error > 0.5:\n",
    "                break\n",
    "            beta = error / (1 - error)\n",
    "            weight *= (1.0 - error_flag) * beta + error_flag  # 调整权重，正确位置乘上 beta，错误位置还是原来的\n",
    "            weight /= weight.sum() / num_samples  # 归一化，让权重和等于 num_samples\n",
    "            beta_lst.append(beta)\n",
    "            predict_proba = self.clf.predict_proba(test_X)[:, 1]\n",
    "            result_lst.append(predict_proba)\n",
    "        beta_lst = np.log(1 / np.array(beta_lst))\n",
    "        beta_lst /= beta_lst.sum()  # 归一化投票权重\n",
    "        print('\\nVote Weight:\\n', beta_lst)\n",
    "        result = (np.array(result_lst) * beta_lst[:, None]).sum(0)  # 每一轮的预测结果加权求和\n",
    "        return result"
   ]
  },
  {
   "cell_type": "markdown",
   "metadata": {},
   "source": [
    "## 4. 测试并生成结果"
   ]
  },
  {
   "cell_type": "code",
   "execution_count": 9,
   "metadata": {},
   "outputs": [
    {
     "name": "stdout",
     "output_type": "stream",
     "text": [
      "Model 0  finish!\n",
      "Model 1  finish!\n",
      "Model 2  finish!\n",
      "Model 3  finish!\n",
      "\n",
      "Vote Weight:\n",
      " [0.47013022 0.35834806 0.17152172]\n"
     ]
    }
   ],
   "source": [
    "np.random.seed(0)\n",
    "clf = construct_clf('SVM')  # DTree, SVM, NB\n",
    "# runner = Bagging(clf, 10)\n",
    "runner = AdaBoostM1(clf, 10)\n",
    "y_predict = runner.fit_predict(train_X.tocsr(), train_df['label'], test_X.tocsr())"
   ]
  },
  {
   "cell_type": "code",
   "execution_count": 10,
   "metadata": {},
   "outputs": [],
   "source": [
    "# 生成提交文件\n",
    "result_df = pd.DataFrame()\n",
    "result_df['Id'] = test_df['Id'].values\n",
    "result_df['Predicted'] = y_predict\n",
    "result_df.to_csv('./result.csv', index=False)"
   ]
  },
  {
   "cell_type": "markdown",
   "metadata": {},
   "source": [
    "|   Method   |   Base   |   +Bagging   |   +AdaBoost.M1   |\n",
    "| ---- | ---- | ---- | ---- |\n",
    "|   DTree   |   0.74   |   0.77   |   0.76   |\n",
    "|   SVM   |   0.78   |   0.81   |   0.81   |"
   ]
  },
  {
   "cell_type": "markdown",
   "metadata": {},
   "source": [
    "## 5. 讨论\n",
    "\n",
    "* 随机数种子\n",
    "* 自行构建验证集进行线下测试\n",
    "* 训练集上 fit，和测试集一起 transform\n",
    "* 文本建模方法 or 文本特征选择\n",
    "* 引入文本长度、用户商品等特征\n",
    "* 基分类器的强弱"
   ]
  },
  {
   "cell_type": "code",
   "execution_count": null,
   "metadata": {},
   "outputs": [],
   "source": []
  }
 ],
 "metadata": {
  "kernelspec": {
   "display_name": "Python 3",
   "language": "python",
   "name": "python3"
  },
  "language_info": {
   "codemirror_mode": {
    "name": "ipython",
    "version": 3
   },
   "file_extension": ".py",
   "mimetype": "text/x-python",
   "name": "python",
   "nbconvert_exporter": "python",
   "pygments_lexer": "ipython3",
   "version": "3.7.6"
  }
 },
 "nbformat": 4,
 "nbformat_minor": 4
}
